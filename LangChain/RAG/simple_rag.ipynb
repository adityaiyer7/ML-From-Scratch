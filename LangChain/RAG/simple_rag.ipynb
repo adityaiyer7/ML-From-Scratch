{
 "cells": [
  {
   "cell_type": "code",
   "execution_count": 1,
   "metadata": {},
   "outputs": [
    {
     "data": {
      "text/plain": [
       "[Document(page_content='CS 61A Structure and Interpretation of Computer Programs\\nSpring 2024 Midterm 1\\nINSTRUCTIONS\\nThis is your exam. Complete it either at exam.cs61a.org or, if that doesn’t work, by emailing course staﬀ with your\\nsolutions before the exam deadline.\\nThis exam is intended for the student with email address <EMAILADDRESS> . If this is not your email address, notify\\ncourse staﬀ immediately, as each exam is diﬀerent. Do not distribute this exam PDF even after the exam ends, as\\nsome students may be taking the exam in a diﬀerent time zone.\\nFor questions with circular bubbles , you should select exactly onechoice.\\n#You must choose either this option\\n#Or this one, but not both!\\nFor questions with square checkboxes , you may select multiple choices.\\n2You could select this choice.\\n2You could select this one too!\\nYou may start your exam now. Your exam is due at <DEADLINE> Paciﬁc Time. Go to the next page\\nto begin.', metadata={'source': '61a-sp24-mt1.pdf', 'page': 0}),\n",
       " Document(page_content='Exam generated for <EMAILADDRESS> 2\\nPreliminaries\\nYou can complete and submit these questions before the exam starts.\\n(a)What is your full name?\\n(b)What is your student ID number?\\n(c)What is your @berkeley.edu email address?\\n(d)Sign (or type) your name to conﬁrm that all work on this exam will be your own. The penalty for academic\\nmisconduct on an exam is an F in the course.', metadata={'source': '61a-sp24-mt1.pdf', 'page': 1}),\n",
       " Document(page_content=\"Exam generated for <EMAILADDRESS> 3\\n1. (8.0 points) What Would Python Display?\\nAssume the following code has been executed already.\\none = 1\\ndef choose(one):\\nif big(one):\\nprint( 'A')\\nif huge(one):\\nprint( 'B')\\nelif big(one) or huge(one):\\nprint( 'C')\\nif big(one) or print( 'D'):\\nprint( 'E')\\nelse:\\nprint( 'F')\\nbig = lambda x: x >= one\\nhuge = lambda x: x > one\\ndef which():\\none = 3\\ndef this():\\nreturn one\\nreturn one + 1\\nreturn this\\none = 4\\n(a) (6.0 pt) Which lines are displayed by the interactive Python interpreter after evaluating choose(one +\\none)?Select all that apply.\\n2A\\n2B\\n2C\\n2D\\n2E\\n2None\\n2None of the above\\n(b) (2.0 pt) What is displayed by the interactive Python interpreter after evaluating which()() ?\\n#2\\n#3\\n#4\\n#5\\n#A function\\n#An error occurs before anything is displayed\", metadata={'source': '61a-sp24-mt1.pdf', 'page': 2}),\n",
       " Document(page_content='Exam generated for <EMAILADDRESS> 4\\n2. (8.0 points) Silence of the Lambda\\nComplete the environment diagram below and then answer the questions that follow. There is one question for\\neach labeled blank in the diagram. The blanks with no labels have no questions associated with them and are\\nnot scored. If a blank contains an arrow to a function, write the function as it would appear in the diagram.\\nxizVJjA.png\\n(a) (2.0 pt) Fill in blank (a). The line number has been omitted for simplicity.\\n#-1\\n#1\\n#-10\\n#func lambda(n) [parent = Global]\\n#func lambda(k) [parent = Global]\\n#func lambda(n) [parent = f1]\\n#func lambda(k) [parent = f1]\\n(b) (1.0 pt) Fill in blank (b).\\n#-1\\n#2\\n#3\\n#10', metadata={'source': '61a-sp24-mt1.pdf', 'page': 3}),\n",
       " Document(page_content='Exam generated for <EMAILADDRESS> 5\\n(c) (1.0 pt) Fill in blank (c).\\n#-3\\n#-2\\n#20\\n#30\\n#None\\n(d) (1.0 pt) Fill in blank (d).\\n#-1\\n#2\\n#3\\n#10\\n(e) (1.0 pt) Fill in blank (e).\\n#Global\\n#f1\\n#f2\\n#f3\\n(f) (2.0 pt) What is printed by the call to printon line 6?\\n#-3\\n#-2\\n#20\\n#30\\n#None', metadata={'source': '61a-sp24-mt1.pdf', 'page': 4}),\n",
       " Document(page_content='Exam generated for <EMAILADDRESS> 6\\n3. (8.0 points) Nearly Square\\nImplement near_square , which takes positive integer nand non-negative integer k. It returns the largest integer\\nless than or equal to nwhich is the product of two positive integers that diﬀer by kor less. You may use solve,\\nwhich is provided.\\ndef near_square(n, k):\\n\"\"\"Return the largest integer that is less than or equal to n and\\nequals a * b for some positive integers a and b where abs(a - b) <= k.\\n>>> near_square(125, 0) # 11 * 11 = 121 and abs(11 - 11) = 0\\n121\\n>>> near_square(120, 3) # 10 * 12 = 120 and abs(10 - 12) = 2\\n120\\n>>> near_square(120, 1) # 10 * 11 = 110 and abs(10 - 11) = 1\\n110\\n\"\"\"\\nwhile True:\\ngap = k\\nwhile _______:\\n(a)\\nx = _______\\n(b)\\nif _______: # Check if x is a whole number\\n(c)\\nreturn _______\\n(d)\\n_______\\n(e)\\n_______\\n(f)\\ndef solve(b, c):\\n\"\"\"Returns the largest x for which x * (x + b) = c\\n>>> solve(2, 120) # x=10 solves x * (x + 2) = 120\\n10.0\\n>>> solve(2, 121) # x=10.045... solves x * (x + 2) = 121\\n10.045361017187261\\n\"\"\"\\nreturn (b*b/4 + c) ** 0.5 - b/2\\n(a) (2.0 pt) Fill in blank (a). Select allthat apply.\\n2gap\\n2gap != 0\\n2gap > 0\\n2gap >= 0', metadata={'source': '61a-sp24-mt1.pdf', 'page': 5}),\n",
       " Document(page_content='Exam generated for <EMAILADDRESS> 7\\n(b) (2.0 pt) Fill in blank (b).\\n(c) (1.0 pt) Fill in blank (c). The roundfunction is demonstrated on the Midterm 1 Study Guide (page 2\\nrighthand side).\\n#round(x)\\n#x % 10\\n#x == round(x)\\n#x == x % 10\\n(d) (1.0 pt) Fill in blank (d).\\n#n\\n#k\\n#gap\\n#True\\n(e) (1.0 pt) Fill in blank (e).\\n#n = n - 1\\n#n = k - 1\\n#n = n - k\\n#gap = gap - 1\\n#gap = k - 1\\n#k = k - 1\\n(f) (1.0 pt) Fill in blank (f).\\n#n = n - 1\\n#n = k - 1\\n#n = n - k\\n#gap = gap - 1\\n#gap = k - 1\\n#k = k - 1', metadata={'source': '61a-sp24-mt1.pdf', 'page': 6}),\n",
       " Document(page_content='Exam generated for <EMAILADDRESS> 8\\n4. (16.0 points) Nice Dice\\nAdice integer is a positive integer whose digits are all greater than or equal to 1 and all less than or equal to\\n6.\\n(a) (8.0 points)\\nImplement streak, which takes a positive integer n. It returns Trueifnis adice integer whose digits\\nare all the same and Falseotherwise.\\ndef streak(n):\\n\"\"\"Return whether positive n is a dice integer in which all the digits are the same.\\n>>> streak(22222)\\nTrue\\n>>> streak(4)\\nTrue\\n>>> streak(22322) # 2 and 3 are different digits.\\nFalse\\n>>> streak(99999) # 9 is not allowed in a dice integer.\\nFalse\\n\"\"\"\\nd = n % 10\\nif _______:\\n(a)\\nreturn False\\nwhile n:\\nif _______:\\n(b)\\n_______\\n(c)\\nn = n // 10\\nreturn _______\\n(d)\\ni. (2.0 pt) Fill in blank (a).\\n#d < 1 and d > 6\\n#d < 1 or d > 6\\n#n < 1 and n > 6\\n#n < 1 or n > 6\\n#min(n) < 1 and max(n) > 6\\n#min(n) < 1 or max(n) > 6', metadata={'source': '61a-sp24-mt1.pdf', 'page': 7}),\n",
       " Document(page_content='Exam generated for <EMAILADDRESS> 9\\nii. (2.0 pt) Fill in blank (b).\\niii. (1.0 pt) Fill in blank (c).\\n#d = n % 10\\n#d = (n // 10) % 10\\n#result = False\\n#return False\\niv. (1.0 pt) Fill in blank (d).\\n#True\\n#result\\n#d == n\\n#d == n % 10', metadata={'source': '61a-sp24-mt1.pdf', 'page': 8}),\n",
       " Document(page_content='Exam generated for <EMAILADDRESS> 10\\nv. (2.0 pt) Fill in the blank of changes, which takes a dice number n. It returns the number of digits of\\nnthat are diﬀerent from the digit to their left.\\ndef changes(n):\\n\"\"\"Return the number of adjacent digits that are different in dice number n.\\n>>> changes(22222)\\n0\\n>>> changes(222255)\\n1\\n>>> changes(22322)\\n2\\n>>> changes(22366666622)\\n3\\n>>> changes(52431)\\n4\\n\"\"\"\\ncount = 0\\nwhile n >= 10:\\nif _______:\\ncount = count + 1\\nn = n // 10\\nreturn count\\n#n != n % 100\\n#n != n // 10\\n#n != (n // 10) % 10\\n#n != (n // 10) % 100\\n#n % 10 != n % 100\\n#n % 10 != n // 10\\n#n % 10 != (n // 10) % 10\\n#n % 10 != (n // 10) % 100', metadata={'source': '61a-sp24-mt1.pdf', 'page': 9}),\n",
       " Document(page_content='Exam generated for <EMAILADDRESS> 11\\n(b) (2.0 pt) Fill in the blank of count_if , which takes a one-argument function f. It returns a function that\\ntakes a positive integer nand returns the count of its digits for which freturns a true value.\\ndef count_if(f):\\n\"\"\"Return a function that takes a positive integer n and returns\\nthe count of its digits for which f returns a true value.\\n>>> is_three = lambda d: d == 3\\n>>> count_threes = count_if(is_three) # count_threes returns the number of threes in n\\n>>> count_threes(431663334231) # 3 appears 5 times\\n5\\n\"\"\"\\ndef g(n):\\ncount = 0\\nwhile n:\\nif _______:\\ncount += 1\\nn = n // 10\\nreturn count\\nreturn g\\n(c) (2.0 pt) Fill in the blank of count_at_least , which takes a positive integer k. It returns a function that\\ntakes a positive integer nand returns the count of its digits that are greater than or equal to k.\\ndef count_at_least(k):\\n\"\"\"Return a function that returns how many of the digits of its argument are at least k.\\n>>> above_3 = count_at_least(3) # above_3 returns the # of digits greater than or equal to 3\\n>>> above_3(431663334231)\\n9\\n\"\"\"\\nreturn count_if(_______)\\n#lambda: n % 10 >= k\\n#lambda: n >= k\\n#lambda: d >= k\\n#lambda: d >= n % 10\\n#lambda d: n % 10 >= k\\n#lambda d: n >= k\\n#lambda d: d >= k\\n#lambda d: d >= n % 10\\n#lambda d: lambda k: n % 10 >= k\\n#lambda d: lambda k: n >= k\\n#lambda d: lambda k: d >= k\\n#lambda d: lambda k: d >= n % 10', metadata={'source': '61a-sp24-mt1.pdf', 'page': 10}),\n",
       " Document(page_content='Exam generated for <EMAILADDRESS> 12\\n(d) (4.0 pt) Fill in the blank of times, which takes a non-negative integer k, a positive integer n, and a digit\\nd. It returns Trueifncontains digit dexactly ktimes and Falseotherwise. You may use count_if .\\ndef times(k, n, d):\\n\"\"\"Returns whether n contains digit d exactly k times.\\n>>> times(3, 6132344561, 4) # 4 only appears 2 times\\nFalse\\n>>> times(3, 61323445614, 4) # 4 appears exactly 3 times\\nTrue\\n\"\"\"\\nreturn _______\\n(e) (0.0 pt) This A+ question is not worth any points. It can only aﬀect your course grade if\\nyou have a high A and might receive an A+. Finish the rest of the exam ﬁrst!\\nFill in the blank to implement streakusing count_if . You may not write elseor*or**.\\nThe expression is long, so you may use multiple lines to write it.\\ndef streak(n):\\n\"\"\"Return whether positive n is a dice integer in which all the digits are the same.\\n>>> streak(22222)\\nTrue\\n>>> streak(4)\\nTrue\\n>>> streak(22322) # 2 and 3 are different digits.\\nFalse\\n>>> streak(99999) # 9 is not allowed in a dice integer.\\nFalse\\n\"\"\"\\nreturn ______', metadata={'source': '61a-sp24-mt1.pdf', 'page': 11}),\n",
       " Document(page_content='Exam generated for <EMAILADDRESS> 13\\nNo more questions.', metadata={'source': '61a-sp24-mt1.pdf', 'page': 12})]"
      ]
     },
     "execution_count": 1,
     "metadata": {},
     "output_type": "execute_result"
    }
   ],
   "source": [
    "from langchain_community.document_loaders import PyPDFLoader\n",
    "loader = PyPDFLoader(\"61a-sp24-mt1.pdf\")\n",
    "documents = loader.load()\n",
    "documents"
   ]
  },
  {
   "cell_type": "code",
   "execution_count": 28,
   "metadata": {},
   "outputs": [],
   "source": [
    "from langchain.text_splitter import RecursiveCharacterTextSplitter\n",
    "text_splitter=RecursiveCharacterTextSplitter(chunk_size=1000,chunk_overlap=200)\n",
    "documents=text_splitter.split_documents(documents)"
   ]
  },
  {
   "cell_type": "code",
   "execution_count": 29,
   "metadata": {},
   "outputs": [],
   "source": [
    "from langchain_community.embeddings import OllamaEmbeddings\n",
    "from langchain_community.vectorstores import Chroma\n",
    "\n",
    "\n",
    "db = Chroma.from_documents(\n",
    "    documents,\n",
    "    OllamaEmbeddings())"
   ]
  },
  {
   "cell_type": "code",
   "execution_count": 30,
   "metadata": {},
   "outputs": [
    {
     "name": "stdout",
     "output_type": "stream",
     "text": [
      "[Document(page_content='Exam generated for <EMAILADDRESS> 13\\nNo more questions.', metadata={'page': 12, 'source': '61a-sp24-mt1.pdf'}), Document(page_content='Exam generated for <EMAILADDRESS> 13\\nNo more questions.', metadata={'page': 12, 'source': '61a-sp24-mt1.pdf'}), Document(page_content='CS 61A Structure and Interpretation of Computer Programs\\nSpring 2024 Midterm 1\\nINSTRUCTIONS\\nThis is your exam. Complete it either at exam.cs61a.org or, if that doesn’t work, by emailing course staﬀ with your\\nsolutions before the exam deadline.\\nThis exam is intended for the student with email address <EMAILADDRESS> . If this is not your email address, notify\\ncourse staﬀ immediately, as each exam is diﬀerent. Do not distribute this exam PDF even after the exam ends, as\\nsome students may be taking the exam in a diﬀerent time zone.\\nFor questions with circular bubbles , you should select exactly onechoice.\\n#You must choose either this option\\n#Or this one, but not both!\\nFor questions with square checkboxes , you may select multiple choices.\\n2You could select this choice.\\n2You could select this one too!\\nYou may start your exam now. Your exam is due at <DEADLINE> Paciﬁc Time. Go to the next page\\nto begin.', metadata={'page': 0, 'source': '61a-sp24-mt1.pdf'}), Document(page_content='CS 61A Structure and Interpretation of Computer Programs\\nSpring 2024 Midterm 1\\nINSTRUCTIONS\\nThis is your exam. Complete it either at exam.cs61a.org or, if that doesn’t work, by emailing course staﬀ with your\\nsolutions before the exam deadline.\\nThis exam is intended for the student with email address <EMAILADDRESS> . If this is not your email address, notify\\ncourse staﬀ immediately, as each exam is diﬀerent. Do not distribute this exam PDF even after the exam ends, as\\nsome students may be taking the exam in a diﬀerent time zone.\\nFor questions with circular bubbles , you should select exactly onechoice.\\n#You must choose either this option\\n#Or this one, but not both!\\nFor questions with square checkboxes , you may select multiple choices.\\n2You could select this choice.\\n2You could select this one too!\\nYou may start your exam now. Your exam is due at <DEADLINE> Paciﬁc Time. Go to the next page\\nto begin.', metadata={'page': 0, 'source': '61a-sp24-mt1.pdf'})]\n"
     ]
    }
   ],
   "source": [
    "query = \"environment diagram\"\n",
    "retrieved_results = db.similarity_search(query)\n",
    "print(retrieved_results)"
   ]
  },
  {
   "cell_type": "code",
   "execution_count": null,
   "metadata": {},
   "outputs": [],
   "source": []
  }
 ],
 "metadata": {
  "kernelspec": {
   "display_name": "base",
   "language": "python",
   "name": "python3"
  },
  "language_info": {
   "codemirror_mode": {
    "name": "ipython",
    "version": 3
   },
   "file_extension": ".py",
   "mimetype": "text/x-python",
   "name": "python",
   "nbconvert_exporter": "python",
   "pygments_lexer": "ipython3",
   "version": "3.11.5"
  }
 },
 "nbformat": 4,
 "nbformat_minor": 2
}
