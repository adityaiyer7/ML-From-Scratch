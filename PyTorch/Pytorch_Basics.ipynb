{
  "nbformat": 4,
  "nbformat_minor": 0,
  "metadata": {
    "colab": {
      "provenance": [],
      "gpuType": "T4"
    },
    "kernelspec": {
      "name": "python3",
      "display_name": "Python 3"
    },
    "language_info": {
      "name": "python"
    },
    "accelerator": "GPU"
  },
  "cells": [
    {
      "cell_type": "code",
      "execution_count": null,
      "metadata": {
        "id": "Q-nECaMA-zQf"
      },
      "outputs": [],
      "source": [
        "import torch"
      ]
    },
    {
      "cell_type": "markdown",
      "source": [
        "# Creating a Tensor\n",
        "\n",
        "A tensor can be created using torch.tensor method"
      ],
      "metadata": {
        "id": "pxoqoweNtbTj"
      }
    },
    {
      "cell_type": "code",
      "source": [
        "scalar = torch.tensor(7)"
      ],
      "metadata": {
        "id": "yNYaZluQutzD"
      },
      "execution_count": null,
      "outputs": []
    },
    {
      "cell_type": "code",
      "source": [
        "vector = torch.tensor([1,2,3])"
      ],
      "metadata": {
        "id": "XoNbNrNFvL9S"
      },
      "execution_count": null,
      "outputs": []
    },
    {
      "cell_type": "code",
      "source": [
        "MATRIX = torch.tensor([[1,2,3], [1,2,3]])"
      ],
      "metadata": {
        "id": "9lTpj2hivOlt"
      },
      "execution_count": null,
      "outputs": []
    },
    {
      "cell_type": "code",
      "source": [
        "TENSOR = torch.tensor(\n",
        "    [[\n",
        "      [\n",
        "          [\n",
        "              [1,2], [1,3]\n",
        "          ],\n",
        "          [\n",
        "              [1,2], [1,2]\n",
        "          ],\n",
        "          [\n",
        "              [1,2], [1,2]\n",
        "          ],\n",
        "          [\n",
        "              [1,2], [1,2]\n",
        "          ],\n",
        "          [\n",
        "              [1,2], [1,2]\n",
        "          ]\n",
        "      ],\n",
        "      [\n",
        "          [\n",
        "              [1,2], [1,3]\n",
        "          ],\n",
        "          [\n",
        "              [1,2], [1,2]\n",
        "          ],\n",
        "          [\n",
        "              [1,2], [1,2]\n",
        "          ],\n",
        "          [\n",
        "              [1,2], [1,2]\n",
        "          ],\n",
        "          [\n",
        "              [1,2], [1,2]\n",
        "          ]\n",
        "      ],\n",
        "      [\n",
        "          [\n",
        "              [1,2], [1,3]\n",
        "          ],\n",
        "          [\n",
        "              [1,2], [1,2]\n",
        "          ],\n",
        "          [\n",
        "              [1,2], [1,2]\n",
        "          ],\n",
        "          [\n",
        "              [1,2], [1,2]\n",
        "          ],\n",
        "          [\n",
        "              [1,2], [1,2]\n",
        "          ]\n",
        "      ],\n",
        "      [\n",
        "          [\n",
        "              [1,2], [1,3]\n",
        "          ],\n",
        "          [\n",
        "              [1,2], [1,2]\n",
        "          ],\n",
        "          [\n",
        "              [1,2], [1,2]\n",
        "          ],\n",
        "          [\n",
        "              [1,2], [1,2]\n",
        "          ],\n",
        "          [\n",
        "              [1,2], [1,2]\n",
        "          ]\n",
        "      ],\n",
        "      [\n",
        "          [\n",
        "              [1,2], [1,3]\n",
        "          ],\n",
        "          [\n",
        "              [1,2], [1,2]\n",
        "          ],\n",
        "          [\n",
        "              [1,2], [1,2]\n",
        "          ],\n",
        "          [\n",
        "              [1,2], [1,2]\n",
        "          ],\n",
        "          [\n",
        "              [1,2], [1,2]\n",
        "          ]\n",
        "      ]\n",
        "    ],\n",
        "     [\n",
        "      [\n",
        "          [\n",
        "              [1,2], [1,3]\n",
        "          ],\n",
        "          [\n",
        "              [1,2], [1,2]\n",
        "          ],\n",
        "          [\n",
        "              [1,2], [1,2]\n",
        "          ],\n",
        "          [\n",
        "              [1,2], [1,2]\n",
        "          ],\n",
        "          [\n",
        "              [1,2], [1,2]\n",
        "          ]\n",
        "      ],\n",
        "      [\n",
        "          [\n",
        "              [1,2], [1,3]\n",
        "          ],\n",
        "          [\n",
        "              [1,2], [1,2]\n",
        "          ],\n",
        "          [\n",
        "              [1,2], [1,2]\n",
        "          ],\n",
        "          [\n",
        "              [1,2], [1,2]\n",
        "          ],\n",
        "          [\n",
        "              [1,2], [1,2]\n",
        "          ]\n",
        "      ],\n",
        "      [\n",
        "          [\n",
        "              [1,2], [1,3]\n",
        "          ],\n",
        "          [\n",
        "              [1,2], [1,2]\n",
        "          ],\n",
        "          [\n",
        "              [1,2], [1,2]\n",
        "          ],\n",
        "          [\n",
        "              [1,2], [1,2]\n",
        "          ],\n",
        "          [\n",
        "              [1,2], [1,2]\n",
        "          ]\n",
        "      ],\n",
        "      [\n",
        "          [\n",
        "              [1,2], [1,3]\n",
        "          ],\n",
        "          [\n",
        "              [1,2], [1,2]\n",
        "          ],\n",
        "          [\n",
        "              [1,2], [1,2]\n",
        "          ],\n",
        "          [\n",
        "              [1,2], [1,2]\n",
        "          ],\n",
        "          [\n",
        "              [1,2], [1,2]\n",
        "          ]\n",
        "      ],\n",
        "      [\n",
        "          [\n",
        "              [1,2], [1,3]\n",
        "          ],\n",
        "          [\n",
        "              [1,2], [1,2]\n",
        "          ],\n",
        "          [\n",
        "              [1,2], [1,2]\n",
        "          ],\n",
        "          [\n",
        "              [1,2], [1,2]\n",
        "          ],\n",
        "          [\n",
        "              [1,2], [1,2]\n",
        "          ]\n",
        "      ]\n",
        "    ]\n",
        "    ]\n",
        ")"
      ],
      "metadata": {
        "id": "UJQEDgMIx2wF"
      },
      "execution_count": null,
      "outputs": []
    },
    {
      "cell_type": "markdown",
      "source": [
        "# Dimesnions of a Tensor\n",
        "\n",
        "The ndim method tells us the dimensions of a Tensor.\n",
        "\n",
        "Here is some common terminology that is used to refer to tensors based on their dimensions:\n",
        "\n",
        "\n",
        "\n",
        "*   <b>0 dimensions</b> : Scalar\n",
        "*   <b>1 dimensions</b> : Vector\n",
        "*   <b>2 dimensions</b> : Matrix\n",
        "*   <b>3+ dimensions</b> : Tensor\n",
        "\n",
        "One way to think about the dimensions of a Tensor is to check the number of nested brackets.\n",
        "\n",
        "In the case of scalars, there is no square brackets so the dimension is 0.\n",
        "\n",
        "\n",
        "In the case of tensors (in the above example) there are 3 nested square brackets so the dimension is 3.\n",
        "\n",
        "You can see the above logic applies to matrices and vectors too,\n",
        "\n"
      ],
      "metadata": {
        "id": "g9ohpKVwt-RF"
      }
    },
    {
      "cell_type": "code",
      "source": [
        "print(scalar.ndim)"
      ],
      "metadata": {
        "colab": {
          "base_uri": "https://localhost:8080/"
        },
        "id": "T6lACZnRuCq-",
        "outputId": "c46f9142-e130-4c6f-dfb9-d3d8e35dda9f"
      },
      "execution_count": null,
      "outputs": [
        {
          "output_type": "stream",
          "name": "stdout",
          "text": [
            "0\n"
          ]
        }
      ]
    },
    {
      "cell_type": "code",
      "source": [
        "print(vector.ndim)"
      ],
      "metadata": {
        "colab": {
          "base_uri": "https://localhost:8080/"
        },
        "id": "dMhqRaSqvbn_",
        "outputId": "1cff219f-1741-43e3-9365-32a9a135e31d"
      },
      "execution_count": null,
      "outputs": [
        {
          "output_type": "stream",
          "name": "stdout",
          "text": [
            "1\n"
          ]
        }
      ]
    },
    {
      "cell_type": "code",
      "source": [
        "print(MATRIX.ndim)"
      ],
      "metadata": {
        "colab": {
          "base_uri": "https://localhost:8080/"
        },
        "id": "MhGiixmdvc5f",
        "outputId": "a9f970e7-daae-47d0-e171-5cf4c683f8ac"
      },
      "execution_count": null,
      "outputs": [
        {
          "output_type": "stream",
          "name": "stdout",
          "text": [
            "2\n"
          ]
        }
      ]
    },
    {
      "cell_type": "code",
      "source": [
        "print(TENSOR.ndim)"
      ],
      "metadata": {
        "colab": {
          "base_uri": "https://localhost:8080/"
        },
        "id": "I6ovDbRmvfAQ",
        "outputId": "6271d3ea-4d8d-4ed1-c533-d97a0d517d9d"
      },
      "execution_count": null,
      "outputs": [
        {
          "output_type": "stream",
          "name": "stdout",
          "text": [
            "5\n"
          ]
        }
      ]
    },
    {
      "cell_type": "markdown",
      "source": [
        "# Shape of a tensor\n",
        "The shape of a tensor tells you how many elements are there along each dimension.\n",
        "\n",
        "Note that the shape of a tensor will always return an output that is the of the same length as the dimensions of that tensor\n",
        "\n"
      ],
      "metadata": {
        "id": "uqt0Lbq6tkcj"
      }
    },
    {
      "cell_type": "code",
      "source": [
        "print(scalar.shape)"
      ],
      "metadata": {
        "colab": {
          "base_uri": "https://localhost:8080/"
        },
        "id": "8PpA8RMYygr8",
        "outputId": "007f2ef5-eaeb-4821-cbf0-04fc5e3a687f"
      },
      "execution_count": null,
      "outputs": [
        {
          "output_type": "stream",
          "name": "stdout",
          "text": [
            "torch.Size([])\n"
          ]
        }
      ]
    },
    {
      "cell_type": "code",
      "source": [
        "print(vector.shape)"
      ],
      "metadata": {
        "colab": {
          "base_uri": "https://localhost:8080/"
        },
        "id": "zs-qCzDLyiyL",
        "outputId": "0e285d1a-54b0-4095-e75e-5f77890877d4"
      },
      "execution_count": null,
      "outputs": [
        {
          "output_type": "stream",
          "name": "stdout",
          "text": [
            "torch.Size([3])\n"
          ]
        }
      ]
    },
    {
      "cell_type": "code",
      "source": [
        "print(MATRIX.shape)"
      ],
      "metadata": {
        "colab": {
          "base_uri": "https://localhost:8080/"
        },
        "id": "sPF_y1VdykGK",
        "outputId": "4299236c-f739-41c5-a7cb-1e0d8bd0ec10"
      },
      "execution_count": null,
      "outputs": [
        {
          "output_type": "stream",
          "name": "stdout",
          "text": [
            "torch.Size([2, 3])\n"
          ]
        }
      ]
    },
    {
      "cell_type": "code",
      "source": [
        "print(TENSOR.shape)"
      ],
      "metadata": {
        "colab": {
          "base_uri": "https://localhost:8080/"
        },
        "id": "s2_LMC0ztj6r",
        "outputId": "664056e4-317d-45a2-bc67-ee25cfc1200f"
      },
      "execution_count": null,
      "outputs": [
        {
          "output_type": "stream",
          "name": "stdout",
          "text": [
            "torch.Size([2, 5, 5, 2, 2])\n"
          ]
        }
      ]
    },
    {
      "cell_type": "markdown",
      "source": [
        "# Random Tensors\n",
        "Returns a tensor filled with random numbers from a uniform distribution on the interval [0,1)"
      ],
      "metadata": {
        "id": "LZzpQgjdyrfx"
      }
    },
    {
      "cell_type": "code",
      "source": [
        "random_vector = torch.rand([3])\n",
        "print(random_vector)\n",
        "print(f\"the shape of my random scalar is {random_vector.shape}\")\n",
        "print(f\"the dimensions of my random scalar is {random_vector.ndim}\")"
      ],
      "metadata": {
        "colab": {
          "base_uri": "https://localhost:8080/"
        },
        "id": "_-xNei60zcRg",
        "outputId": "1d194694-2e84-4651-e41c-007fa0818eea"
      },
      "execution_count": null,
      "outputs": [
        {
          "output_type": "stream",
          "name": "stdout",
          "text": [
            "tensor([0.3666, 0.5214, 0.8358])\n",
            "the shape of my random scalar is torch.Size([3])\n",
            "the dimensions of my random scalar is 1\n"
          ]
        }
      ]
    },
    {
      "cell_type": "code",
      "source": [
        "random_matrix = torch.rand([3,3])\n",
        "print(random_matrix)\n",
        "print(f\"the shape of my random scalar is {random_matrix.shape}\")\n",
        "print(f\"the dimensions of my random scalar is {random_matrix.ndim}\")"
      ],
      "metadata": {
        "colab": {
          "base_uri": "https://localhost:8080/"
        },
        "id": "WXgXtS9py6Yv",
        "outputId": "a79efd29-2d8f-4a7c-f107-c726d9f4b657"
      },
      "execution_count": null,
      "outputs": [
        {
          "output_type": "stream",
          "name": "stdout",
          "text": [
            "tensor([[0.8492, 0.7647, 0.8005],\n",
            "        [0.5238, 0.9133, 0.4959],\n",
            "        [0.2638, 0.2642, 0.0919]])\n",
            "the shape of my random scalar is torch.Size([3, 3])\n",
            "the dimensions of my random scalar is 2\n"
          ]
        }
      ]
    },
    {
      "cell_type": "code",
      "source": [
        "random_tensor = torch.rand([5,3,2])\n",
        "print(random_tensor)\n",
        "print(f\"the shape of my random scalar is {random_tensor.shape}\")\n",
        "print(f\"the dimensions of my random scalar is {random_tensor.ndim}\")"
      ],
      "metadata": {
        "colab": {
          "base_uri": "https://localhost:8080/"
        },
        "id": "_o7o9VmZzYfQ",
        "outputId": "4eb67348-7332-4dfb-83bc-87c60bb0a94d"
      },
      "execution_count": null,
      "outputs": [
        {
          "output_type": "stream",
          "name": "stdout",
          "text": [
            "tensor([[[0.2109, 0.0336],\n",
            "         [0.5108, 0.6742],\n",
            "         [0.1961, 0.5930]],\n",
            "\n",
            "        [[0.6128, 0.6335],\n",
            "         [0.2947, 0.4385],\n",
            "         [0.2329, 0.4607]],\n",
            "\n",
            "        [[0.1992, 0.4911],\n",
            "         [0.8062, 0.3810],\n",
            "         [0.4103, 0.3434]],\n",
            "\n",
            "        [[0.0332, 0.1769],\n",
            "         [0.1099, 0.2844],\n",
            "         [0.6556, 0.2280]],\n",
            "\n",
            "        [[0.5469, 0.1100],\n",
            "         [0.1410, 0.7520],\n",
            "         [0.8156, 0.2823]]])\n",
            "the shape of my random scalar is torch.Size([5, 3, 2])\n",
            "the dimensions of my random scalar is 3\n"
          ]
        }
      ]
    },
    {
      "cell_type": "markdown",
      "source": [
        "# ZEROS\n",
        "Returns a tensor filled with the scalar value 0, with the shape defined by the variable argument size."
      ],
      "metadata": {
        "id": "bHO1mCoQzybd"
      }
    },
    {
      "cell_type": "code",
      "source": [
        "zeros_tensor = torch.zeros([5,3,2])\n",
        "print(zeros_tensor)\n",
        "print(f\"the shape of my random scalar is {zeros_tensor.shape}\")\n",
        "print(f\"the dimensions of my random scalar is {zeros_tensor.ndim}\")"
      ],
      "metadata": {
        "colab": {
          "base_uri": "https://localhost:8080/"
        },
        "id": "Kl8lrT8Qz1DA",
        "outputId": "24bc7f99-ef30-4510-8c44-7a5a9221fd50"
      },
      "execution_count": 82,
      "outputs": [
        {
          "output_type": "stream",
          "name": "stdout",
          "text": [
            "tensor([[[0., 0.],\n",
            "         [0., 0.],\n",
            "         [0., 0.]],\n",
            "\n",
            "        [[0., 0.],\n",
            "         [0., 0.],\n",
            "         [0., 0.]],\n",
            "\n",
            "        [[0., 0.],\n",
            "         [0., 0.],\n",
            "         [0., 0.]],\n",
            "\n",
            "        [[0., 0.],\n",
            "         [0., 0.],\n",
            "         [0., 0.]],\n",
            "\n",
            "        [[0., 0.],\n",
            "         [0., 0.],\n",
            "         [0., 0.]]])\n",
            "the shape of my random scalar is torch.Size([5, 3, 2])\n",
            "the dimensions of my random scalar is 3\n"
          ]
        }
      ]
    },
    {
      "cell_type": "markdown",
      "source": [
        "Now say you didn't want to pass in the shape of the tensor manually, youc could pass in another tensor and pytorch will get the shape of that tensor and generate a new tensor for you.\n",
        "\n",
        "To do this we must use the zeros like function."
      ],
      "metadata": {
        "id": "DjVFTAFB121c"
      }
    },
    {
      "cell_type": "code",
      "source": [
        "zeros_like_tensor = torch.zeros_like(TENSOR)\n",
        "print(zeros_like_tensor)\n",
        "print(f\"the shape of my random scalar is {zeros_like_tensor.shape}\")\n",
        "print(f\"the dimensions of my random scalar is {zeros_like_tensor.ndim}\")"
      ],
      "metadata": {
        "colab": {
          "base_uri": "https://localhost:8080/"
        },
        "id": "9RY2jeKu12JY",
        "outputId": "797ecf34-fe59-428c-a1aa-57143874a054"
      },
      "execution_count": 81,
      "outputs": [
        {
          "output_type": "stream",
          "name": "stdout",
          "text": [
            "tensor([[[[[0, 0],\n",
            "           [0, 0]],\n",
            "\n",
            "          [[0, 0],\n",
            "           [0, 0]],\n",
            "\n",
            "          [[0, 0],\n",
            "           [0, 0]],\n",
            "\n",
            "          [[0, 0],\n",
            "           [0, 0]],\n",
            "\n",
            "          [[0, 0],\n",
            "           [0, 0]]],\n",
            "\n",
            "\n",
            "         [[[0, 0],\n",
            "           [0, 0]],\n",
            "\n",
            "          [[0, 0],\n",
            "           [0, 0]],\n",
            "\n",
            "          [[0, 0],\n",
            "           [0, 0]],\n",
            "\n",
            "          [[0, 0],\n",
            "           [0, 0]],\n",
            "\n",
            "          [[0, 0],\n",
            "           [0, 0]]],\n",
            "\n",
            "\n",
            "         [[[0, 0],\n",
            "           [0, 0]],\n",
            "\n",
            "          [[0, 0],\n",
            "           [0, 0]],\n",
            "\n",
            "          [[0, 0],\n",
            "           [0, 0]],\n",
            "\n",
            "          [[0, 0],\n",
            "           [0, 0]],\n",
            "\n",
            "          [[0, 0],\n",
            "           [0, 0]]],\n",
            "\n",
            "\n",
            "         [[[0, 0],\n",
            "           [0, 0]],\n",
            "\n",
            "          [[0, 0],\n",
            "           [0, 0]],\n",
            "\n",
            "          [[0, 0],\n",
            "           [0, 0]],\n",
            "\n",
            "          [[0, 0],\n",
            "           [0, 0]],\n",
            "\n",
            "          [[0, 0],\n",
            "           [0, 0]]],\n",
            "\n",
            "\n",
            "         [[[0, 0],\n",
            "           [0, 0]],\n",
            "\n",
            "          [[0, 0],\n",
            "           [0, 0]],\n",
            "\n",
            "          [[0, 0],\n",
            "           [0, 0]],\n",
            "\n",
            "          [[0, 0],\n",
            "           [0, 0]],\n",
            "\n",
            "          [[0, 0],\n",
            "           [0, 0]]]],\n",
            "\n",
            "\n",
            "\n",
            "        [[[[0, 0],\n",
            "           [0, 0]],\n",
            "\n",
            "          [[0, 0],\n",
            "           [0, 0]],\n",
            "\n",
            "          [[0, 0],\n",
            "           [0, 0]],\n",
            "\n",
            "          [[0, 0],\n",
            "           [0, 0]],\n",
            "\n",
            "          [[0, 0],\n",
            "           [0, 0]]],\n",
            "\n",
            "\n",
            "         [[[0, 0],\n",
            "           [0, 0]],\n",
            "\n",
            "          [[0, 0],\n",
            "           [0, 0]],\n",
            "\n",
            "          [[0, 0],\n",
            "           [0, 0]],\n",
            "\n",
            "          [[0, 0],\n",
            "           [0, 0]],\n",
            "\n",
            "          [[0, 0],\n",
            "           [0, 0]]],\n",
            "\n",
            "\n",
            "         [[[0, 0],\n",
            "           [0, 0]],\n",
            "\n",
            "          [[0, 0],\n",
            "           [0, 0]],\n",
            "\n",
            "          [[0, 0],\n",
            "           [0, 0]],\n",
            "\n",
            "          [[0, 0],\n",
            "           [0, 0]],\n",
            "\n",
            "          [[0, 0],\n",
            "           [0, 0]]],\n",
            "\n",
            "\n",
            "         [[[0, 0],\n",
            "           [0, 0]],\n",
            "\n",
            "          [[0, 0],\n",
            "           [0, 0]],\n",
            "\n",
            "          [[0, 0],\n",
            "           [0, 0]],\n",
            "\n",
            "          [[0, 0],\n",
            "           [0, 0]],\n",
            "\n",
            "          [[0, 0],\n",
            "           [0, 0]]],\n",
            "\n",
            "\n",
            "         [[[0, 0],\n",
            "           [0, 0]],\n",
            "\n",
            "          [[0, 0],\n",
            "           [0, 0]],\n",
            "\n",
            "          [[0, 0],\n",
            "           [0, 0]],\n",
            "\n",
            "          [[0, 0],\n",
            "           [0, 0]],\n",
            "\n",
            "          [[0, 0],\n",
            "           [0, 0]]]]])\n",
            "the shape of my random scalar is torch.Size([2, 5, 5, 2, 2])\n",
            "the dimensions of my random scalar is 5\n"
          ]
        }
      ]
    },
    {
      "cell_type": "markdown",
      "source": [
        "# ONES\n",
        "Works the same way as Zero does, but instead of filling it with zeros we get it filled with ones"
      ],
      "metadata": {
        "id": "dKkuojEjz-Y5"
      }
    },
    {
      "cell_type": "code",
      "source": [
        "ones_tensor = torch.zeros([5,3,2])\n",
        "print(ones_tensor)\n",
        "print(f\"the shape of my random scalar is {ones_tensor.shape}\")\n",
        "print(f\"the dimensions of my random scalar is {ones_tensor.ndim}\")"
      ],
      "metadata": {
        "colab": {
          "base_uri": "https://localhost:8080/"
        },
        "id": "PoBUSfaN0gos",
        "outputId": "ddda3d4e-68db-402e-a754-939d205961b9"
      },
      "execution_count": null,
      "outputs": [
        {
          "output_type": "stream",
          "name": "stdout",
          "text": [
            "tensor([[[0., 0.],\n",
            "         [0., 0.],\n",
            "         [0., 0.]],\n",
            "\n",
            "        [[0., 0.],\n",
            "         [0., 0.],\n",
            "         [0., 0.]],\n",
            "\n",
            "        [[0., 0.],\n",
            "         [0., 0.],\n",
            "         [0., 0.]],\n",
            "\n",
            "        [[0., 0.],\n",
            "         [0., 0.],\n",
            "         [0., 0.]],\n",
            "\n",
            "        [[0., 0.],\n",
            "         [0., 0.],\n",
            "         [0., 0.]]])\n",
            "the shape of my random scalar is torch.Size([5, 3, 2])\n",
            "the dimensions of my random scalar is 3\n"
          ]
        }
      ]
    },
    {
      "cell_type": "markdown",
      "source": [
        "Similar to the zeros like function, we have a ones_like method that does the same thing but populates the tensor with 1's."
      ],
      "metadata": {
        "id": "Z7sAP8Gw2NAa"
      }
    },
    {
      "cell_type": "code",
      "source": [
        "ones_like_tensor = torch.zeros_like(TENSOR)\n",
        "print(ones_like_tensor)\n",
        "print(f\"the shape of my random scalar is {ones_like_tensor.shape}\")\n",
        "print(f\"the dimensions of my random scalar is {ones_like_tensor.ndim}\")"
      ],
      "metadata": {
        "colab": {
          "base_uri": "https://localhost:8080/"
        },
        "id": "t_oN_BQI2TFc",
        "outputId": "56040509-626e-42c9-9a8e-d8b4bf6c4819"
      },
      "execution_count": 83,
      "outputs": [
        {
          "output_type": "stream",
          "name": "stdout",
          "text": [
            "tensor([[[[[0, 0],\n",
            "           [0, 0]],\n",
            "\n",
            "          [[0, 0],\n",
            "           [0, 0]],\n",
            "\n",
            "          [[0, 0],\n",
            "           [0, 0]],\n",
            "\n",
            "          [[0, 0],\n",
            "           [0, 0]],\n",
            "\n",
            "          [[0, 0],\n",
            "           [0, 0]]],\n",
            "\n",
            "\n",
            "         [[[0, 0],\n",
            "           [0, 0]],\n",
            "\n",
            "          [[0, 0],\n",
            "           [0, 0]],\n",
            "\n",
            "          [[0, 0],\n",
            "           [0, 0]],\n",
            "\n",
            "          [[0, 0],\n",
            "           [0, 0]],\n",
            "\n",
            "          [[0, 0],\n",
            "           [0, 0]]],\n",
            "\n",
            "\n",
            "         [[[0, 0],\n",
            "           [0, 0]],\n",
            "\n",
            "          [[0, 0],\n",
            "           [0, 0]],\n",
            "\n",
            "          [[0, 0],\n",
            "           [0, 0]],\n",
            "\n",
            "          [[0, 0],\n",
            "           [0, 0]],\n",
            "\n",
            "          [[0, 0],\n",
            "           [0, 0]]],\n",
            "\n",
            "\n",
            "         [[[0, 0],\n",
            "           [0, 0]],\n",
            "\n",
            "          [[0, 0],\n",
            "           [0, 0]],\n",
            "\n",
            "          [[0, 0],\n",
            "           [0, 0]],\n",
            "\n",
            "          [[0, 0],\n",
            "           [0, 0]],\n",
            "\n",
            "          [[0, 0],\n",
            "           [0, 0]]],\n",
            "\n",
            "\n",
            "         [[[0, 0],\n",
            "           [0, 0]],\n",
            "\n",
            "          [[0, 0],\n",
            "           [0, 0]],\n",
            "\n",
            "          [[0, 0],\n",
            "           [0, 0]],\n",
            "\n",
            "          [[0, 0],\n",
            "           [0, 0]],\n",
            "\n",
            "          [[0, 0],\n",
            "           [0, 0]]]],\n",
            "\n",
            "\n",
            "\n",
            "        [[[[0, 0],\n",
            "           [0, 0]],\n",
            "\n",
            "          [[0, 0],\n",
            "           [0, 0]],\n",
            "\n",
            "          [[0, 0],\n",
            "           [0, 0]],\n",
            "\n",
            "          [[0, 0],\n",
            "           [0, 0]],\n",
            "\n",
            "          [[0, 0],\n",
            "           [0, 0]]],\n",
            "\n",
            "\n",
            "         [[[0, 0],\n",
            "           [0, 0]],\n",
            "\n",
            "          [[0, 0],\n",
            "           [0, 0]],\n",
            "\n",
            "          [[0, 0],\n",
            "           [0, 0]],\n",
            "\n",
            "          [[0, 0],\n",
            "           [0, 0]],\n",
            "\n",
            "          [[0, 0],\n",
            "           [0, 0]]],\n",
            "\n",
            "\n",
            "         [[[0, 0],\n",
            "           [0, 0]],\n",
            "\n",
            "          [[0, 0],\n",
            "           [0, 0]],\n",
            "\n",
            "          [[0, 0],\n",
            "           [0, 0]],\n",
            "\n",
            "          [[0, 0],\n",
            "           [0, 0]],\n",
            "\n",
            "          [[0, 0],\n",
            "           [0, 0]]],\n",
            "\n",
            "\n",
            "         [[[0, 0],\n",
            "           [0, 0]],\n",
            "\n",
            "          [[0, 0],\n",
            "           [0, 0]],\n",
            "\n",
            "          [[0, 0],\n",
            "           [0, 0]],\n",
            "\n",
            "          [[0, 0],\n",
            "           [0, 0]],\n",
            "\n",
            "          [[0, 0],\n",
            "           [0, 0]]],\n",
            "\n",
            "\n",
            "         [[[0, 0],\n",
            "           [0, 0]],\n",
            "\n",
            "          [[0, 0],\n",
            "           [0, 0]],\n",
            "\n",
            "          [[0, 0],\n",
            "           [0, 0]],\n",
            "\n",
            "          [[0, 0],\n",
            "           [0, 0]],\n",
            "\n",
            "          [[0, 0],\n",
            "           [0, 0]]]]])\n",
            "the shape of my random scalar is torch.Size([2, 5, 5, 2, 2])\n",
            "the dimensions of my random scalar is 5\n"
          ]
        }
      ]
    }
  ]
}