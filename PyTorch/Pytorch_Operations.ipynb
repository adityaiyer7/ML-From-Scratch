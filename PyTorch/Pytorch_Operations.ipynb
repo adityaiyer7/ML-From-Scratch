{
  "nbformat": 4,
  "nbformat_minor": 0,
  "metadata": {
    "colab": {
      "provenance": []
    },
    "kernelspec": {
      "name": "python3",
      "display_name": "Python 3"
    },
    "language_info": {
      "name": "python"
    }
  },
  "cells": [
    {
      "cell_type": "code",
      "execution_count": null,
      "metadata": {
        "id": "Xq3o3F9rjg7k"
      },
      "outputs": [],
      "source": [
        "import torch"
      ]
    },
    {
      "cell_type": "code",
      "source": [
        "basic_tensor_one = torch.tensor([1,2,3])\n",
        "basic_tensor_two = torch.tensor([4,5,6])"
      ],
      "metadata": {
        "id": "GXMaQyh9jjdD"
      },
      "execution_count": null,
      "outputs": []
    },
    {
      "cell_type": "markdown",
      "source": [
        "$\n",
        "\\text{complex_tensor_one} = \\begin{pmatrix}\n",
        "    \\begin{pmatrix} 1 & 2 & 3 \\\\ 4 & 5 & 6 \\end{pmatrix}, &\n",
        "    \\begin{pmatrix} 1 & 2 & 3 \\\\ 4 & 5 & 6 \\end{pmatrix}, &\n",
        "    \\begin{pmatrix} 1 & 2 & 3 \\\\ 4 & 5 & 6 \\end{pmatrix}\n",
        "\\end{pmatrix}\n",
        "$\n",
        "\n",
        "\n",
        "$\n",
        "\\text{complex_tensor_two} = \\begin{pmatrix}\n",
        "    \\begin{pmatrix} 10 & 20 & 30 \\\\ 40 & 50 & 60 \\end{pmatrix}, &\n",
        "    \\begin{pmatrix} 10 & 20 & 30 \\\\ 40 & 50 & 60 \\end{pmatrix}, &\n",
        "    \\begin{pmatrix} 10 & 20 & 30 \\\\ 40 & 50 & 60 \\end{pmatrix}\n",
        "\\end{pmatrix}\n",
        "$"
      ],
      "metadata": {
        "id": "V0tEQw3Mldk5"
      }
    },
    {
      "cell_type": "code",
      "source": [
        "complex_tensor_one = torch.tensor([[\n",
        "    [1,2,3],\n",
        "    [4,5,6]\n",
        "],\n",
        "[\n",
        "    [1,2,3],\n",
        "    [4,5,6]\n",
        "],\n",
        "[\n",
        "    [1,2,3],\n",
        "    [4,5,6]\n",
        "]])\n",
        "\n",
        "\n",
        "complex_tensor_two = torch.tensor([[\n",
        "    [10,20,30],\n",
        "    [40,50,60]\n",
        "],\n",
        "[\n",
        "    [10,20,30],\n",
        "    [40,50,60]\n",
        "],\n",
        "[\n",
        "    [10,20,30],\n",
        "    [40,50,60]\n",
        "]])"
      ],
      "metadata": {
        "id": "AktT8fCMj_I8"
      },
      "execution_count": null,
      "outputs": []
    },
    {
      "cell_type": "code",
      "source": [
        "complex_tensor_two.shape"
      ],
      "metadata": {
        "colab": {
          "base_uri": "https://localhost:8080/"
        },
        "id": "5W956nq6q_Jj",
        "outputId": "afebdb54-ee10-419d-ec2a-025840db111b"
      },
      "execution_count": null,
      "outputs": [
        {
          "output_type": "execute_result",
          "data": {
            "text/plain": [
              "torch.Size([3, 2, 3])"
            ]
          },
          "metadata": {},
          "execution_count": 61
        }
      ]
    },
    {
      "cell_type": "code",
      "source": [
        "small_tensor = torch.tensor([100, 1])"
      ],
      "metadata": {
        "id": "9c534RiEnqS_"
      },
      "execution_count": null,
      "outputs": []
    },
    {
      "cell_type": "markdown",
      "source": [
        "# Addition of Two Tensors"
      ],
      "metadata": {
        "id": "1vbTi3homP17"
      }
    },
    {
      "cell_type": "code",
      "source": [
        "basic_result = torch.add(basic_tensor_one, basic_tensor_two)"
      ],
      "metadata": {
        "id": "F9zXxK0kklcj"
      },
      "execution_count": null,
      "outputs": []
    },
    {
      "cell_type": "code",
      "source": [
        "basic_result"
      ],
      "metadata": {
        "colab": {
          "base_uri": "https://localhost:8080/"
        },
        "id": "fFYC6l3pmZ7U",
        "outputId": "debb8105-702b-4c87-b948-aab627dd6d9b"
      },
      "execution_count": null,
      "outputs": [
        {
          "output_type": "execute_result",
          "data": {
            "text/plain": [
              "tensor([5, 7, 9])"
            ]
          },
          "metadata": {},
          "execution_count": 12
        }
      ]
    },
    {
      "cell_type": "code",
      "source": [
        "complex_result = torch.add(complex_tensor_one, complex_tensor_two)"
      ],
      "metadata": {
        "id": "XNKzuWtkmanD"
      },
      "execution_count": null,
      "outputs": []
    },
    {
      "cell_type": "code",
      "source": [
        "complex_result"
      ],
      "metadata": {
        "colab": {
          "base_uri": "https://localhost:8080/"
        },
        "id": "OSx4BM0Qme2Q",
        "outputId": "3a633c92-6d3e-4e5b-dd9f-596ddd3e8d71"
      },
      "execution_count": null,
      "outputs": [
        {
          "output_type": "execute_result",
          "data": {
            "text/plain": [
              "tensor([[[11, 22, 33],\n",
              "         [44, 55, 66]],\n",
              "\n",
              "        [[11, 22, 33],\n",
              "         [44, 55, 66]],\n",
              "\n",
              "        [[11, 22, 33],\n",
              "         [44, 55, 66]]])"
            ]
          },
          "metadata": {},
          "execution_count": 16
        }
      ]
    },
    {
      "cell_type": "code",
      "source": [
        "_result = torch.add(complex_result, basic_tensor_one)"
      ],
      "metadata": {
        "id": "_fglV2DDmhl7"
      },
      "execution_count": null,
      "outputs": []
    },
    {
      "cell_type": "code",
      "source": [
        "_result"
      ],
      "metadata": {
        "colab": {
          "base_uri": "https://localhost:8080/"
        },
        "id": "auHdLxlxmobZ",
        "outputId": "e35f9099-5d31-4003-c469-30f6bd8349bb"
      },
      "execution_count": null,
      "outputs": [
        {
          "output_type": "execute_result",
          "data": {
            "text/plain": [
              "tensor([[[12, 24, 36],\n",
              "         [45, 57, 69]],\n",
              "\n",
              "        [[12, 24, 36],\n",
              "         [45, 57, 69]],\n",
              "\n",
              "        [[12, 24, 36],\n",
              "         [45, 57, 69]]])"
            ]
          },
          "metadata": {},
          "execution_count": 23
        }
      ]
    },
    {
      "cell_type": "code",
      "source": [
        "'''This cell should throw an error'''\n",
        "# small_plus_complex =torch.add(complex_result, small_tensor)"
      ],
      "metadata": {
        "id": "EaB7BCJkmrBV"
      },
      "execution_count": null,
      "outputs": []
    },
    {
      "cell_type": "code",
      "source": [
        "# small_plus_complex"
      ],
      "metadata": {
        "id": "NJLufCcOn1j8"
      },
      "execution_count": null,
      "outputs": []
    },
    {
      "cell_type": "markdown",
      "source": [
        "# Subtraction\n",
        "\n",
        "Works pretty much the same way as addition"
      ],
      "metadata": {
        "id": "NyEETjYCn9Kp"
      }
    },
    {
      "cell_type": "code",
      "source": [
        "basic_sub = torch.subtract(basic_tensor_one, basic_tensor_two)"
      ],
      "metadata": {
        "id": "Cuek3D3Wn2P_"
      },
      "execution_count": null,
      "outputs": []
    },
    {
      "cell_type": "code",
      "source": [
        "basic_sub"
      ],
      "metadata": {
        "colab": {
          "base_uri": "https://localhost:8080/"
        },
        "id": "FEuD5fGUoXTf",
        "outputId": "d7a6cf1f-b100-429a-a2f9-56473225ae17"
      },
      "execution_count": null,
      "outputs": [
        {
          "output_type": "execute_result",
          "data": {
            "text/plain": [
              "tensor([-3, -3, -3])"
            ]
          },
          "metadata": {},
          "execution_count": 36
        }
      ]
    },
    {
      "cell_type": "code",
      "source": [
        "complex_sub = torch.subtract(complex_tensor_one, complex_tensor_two)"
      ],
      "metadata": {
        "id": "l0R5qz5toYsU"
      },
      "execution_count": null,
      "outputs": []
    },
    {
      "cell_type": "code",
      "source": [
        "complex_sub"
      ],
      "metadata": {
        "colab": {
          "base_uri": "https://localhost:8080/"
        },
        "id": "azCACQ7gobXM",
        "outputId": "18020021-5f0d-4cae-ef5a-0923e4b026cd"
      },
      "execution_count": null,
      "outputs": [
        {
          "output_type": "execute_result",
          "data": {
            "text/plain": [
              "tensor([[[ -9, -18, -27],\n",
              "         [-36, -45, -54]],\n",
              "\n",
              "        [[ -9, -18, -27],\n",
              "         [-36, -45, -54]],\n",
              "\n",
              "        [[ -9, -18, -27],\n",
              "         [-36, -45, -54]]])"
            ]
          },
          "metadata": {},
          "execution_count": 38
        }
      ]
    },
    {
      "cell_type": "code",
      "source": [
        "basic_complex_sub = torch.subtract(complex_result, basic_tensor_one)"
      ],
      "metadata": {
        "id": "ANo2auubocEi"
      },
      "execution_count": null,
      "outputs": []
    },
    {
      "cell_type": "code",
      "source": [
        "basic_complex_sub"
      ],
      "metadata": {
        "colab": {
          "base_uri": "https://localhost:8080/"
        },
        "id": "7g2WnLOMoe01",
        "outputId": "ad14d1e5-613e-4692-a6f1-53aab3e8660e"
      },
      "execution_count": null,
      "outputs": [
        {
          "output_type": "execute_result",
          "data": {
            "text/plain": [
              "tensor([[[10, 20, 30],\n",
              "         [43, 53, 63]],\n",
              "\n",
              "        [[10, 20, 30],\n",
              "         [43, 53, 63]],\n",
              "\n",
              "        [[10, 20, 30],\n",
              "         [43, 53, 63]]])"
            ]
          },
          "metadata": {},
          "execution_count": 42
        }
      ]
    },
    {
      "cell_type": "markdown",
      "source": [
        "# Multiplication\n",
        "\n",
        "\n",
        "This is element wise multiplication, for matrix multiplication, see matmul"
      ],
      "metadata": {
        "id": "sS5yQMyWo20x"
      }
    },
    {
      "cell_type": "code",
      "source": [
        "torch.mul(basic_tensor_one, 6)"
      ],
      "metadata": {
        "colab": {
          "base_uri": "https://localhost:8080/"
        },
        "id": "FxnIph8Bo3yP",
        "outputId": "d6749ebc-299a-4ece-c573-63ad20523443"
      },
      "execution_count": null,
      "outputs": [
        {
          "output_type": "execute_result",
          "data": {
            "text/plain": [
              "tensor([ 6, 12, 18])"
            ]
          },
          "metadata": {},
          "execution_count": 47
        }
      ]
    },
    {
      "cell_type": "code",
      "source": [
        "torch.mul(complex_tensor_one, 9)"
      ],
      "metadata": {
        "colab": {
          "base_uri": "https://localhost:8080/"
        },
        "id": "t4D7pDDLo6Rx",
        "outputId": "db894227-b6f5-44da-aa0b-7e134cefde4f"
      },
      "execution_count": null,
      "outputs": [
        {
          "output_type": "execute_result",
          "data": {
            "text/plain": [
              "tensor([[[ 9, 18, 27],\n",
              "         [36, 45, 54]],\n",
              "\n",
              "        [[ 9, 18, 27],\n",
              "         [36, 45, 54]],\n",
              "\n",
              "        [[ 9, 18, 27],\n",
              "         [36, 45, 54]]])"
            ]
          },
          "metadata": {},
          "execution_count": 44
        }
      ]
    },
    {
      "cell_type": "code",
      "source": [
        "torch.mul(complex_tensor_one, basic_tensor_one)"
      ],
      "metadata": {
        "colab": {
          "base_uri": "https://localhost:8080/"
        },
        "id": "aLpq3Gwbo-Pa",
        "outputId": "052ed6be-f52a-4b40-fe01-6f95f5a998f4"
      },
      "execution_count": null,
      "outputs": [
        {
          "output_type": "execute_result",
          "data": {
            "text/plain": [
              "tensor([[[ 1,  4,  9],\n",
              "         [ 4, 10, 18]],\n",
              "\n",
              "        [[ 1,  4,  9],\n",
              "         [ 4, 10, 18]],\n",
              "\n",
              "        [[ 1,  4,  9],\n",
              "         [ 4, 10, 18]]])"
            ]
          },
          "metadata": {},
          "execution_count": 45
        }
      ]
    },
    {
      "cell_type": "code",
      "source": [
        "torch.mul(complex_tensor_one, complex_tensor_two)"
      ],
      "metadata": {
        "colab": {
          "base_uri": "https://localhost:8080/"
        },
        "id": "hwzIFkqmpB1M",
        "outputId": "3cceb880-c306-40ca-c9cf-44fcffc21c8c"
      },
      "execution_count": null,
      "outputs": [
        {
          "output_type": "execute_result",
          "data": {
            "text/plain": [
              "tensor([[[ 10,  40,  90],\n",
              "         [160, 250, 360]],\n",
              "\n",
              "        [[ 10,  40,  90],\n",
              "         [160, 250, 360]],\n",
              "\n",
              "        [[ 10,  40,  90],\n",
              "         [160, 250, 360]]])"
            ]
          },
          "metadata": {},
          "execution_count": 46
        }
      ]
    },
    {
      "cell_type": "markdown",
      "source": [
        "# Division\n",
        "\n",
        "This performs element wise division"
      ],
      "metadata": {
        "id": "DrE4kgg5prtA"
      }
    },
    {
      "cell_type": "code",
      "source": [
        "torch.div(basic_tensor_one, 6)"
      ],
      "metadata": {
        "colab": {
          "base_uri": "https://localhost:8080/"
        },
        "id": "VibLZd4KpsaH",
        "outputId": "0ff157da-670c-4fd6-d786-10c271adcc12"
      },
      "execution_count": null,
      "outputs": [
        {
          "output_type": "execute_result",
          "data": {
            "text/plain": [
              "tensor([0.1667, 0.3333, 0.5000])"
            ]
          },
          "metadata": {},
          "execution_count": 48
        }
      ]
    },
    {
      "cell_type": "code",
      "source": [
        "torch.div(complex_tensor_one, 9)"
      ],
      "metadata": {
        "colab": {
          "base_uri": "https://localhost:8080/"
        },
        "id": "q03urRO7pt9s",
        "outputId": "8f3d5ddb-ea4c-4776-fd9d-d02d137c08bc"
      },
      "execution_count": null,
      "outputs": [
        {
          "output_type": "execute_result",
          "data": {
            "text/plain": [
              "tensor([[[0.1111, 0.2222, 0.3333],\n",
              "         [0.4444, 0.5556, 0.6667]],\n",
              "\n",
              "        [[0.1111, 0.2222, 0.3333],\n",
              "         [0.4444, 0.5556, 0.6667]],\n",
              "\n",
              "        [[0.1111, 0.2222, 0.3333],\n",
              "         [0.4444, 0.5556, 0.6667]]])"
            ]
          },
          "metadata": {},
          "execution_count": 49
        }
      ]
    },
    {
      "cell_type": "code",
      "source": [
        "torch.div(complex_tensor_one, basic_tensor_one)"
      ],
      "metadata": {
        "colab": {
          "base_uri": "https://localhost:8080/"
        },
        "id": "zq4ejLMtpvZQ",
        "outputId": "600ded5a-5d09-4e67-f3ac-e26d690536a7"
      },
      "execution_count": null,
      "outputs": [
        {
          "output_type": "execute_result",
          "data": {
            "text/plain": [
              "tensor([[[1.0000, 1.0000, 1.0000],\n",
              "         [4.0000, 2.5000, 2.0000]],\n",
              "\n",
              "        [[1.0000, 1.0000, 1.0000],\n",
              "         [4.0000, 2.5000, 2.0000]],\n",
              "\n",
              "        [[1.0000, 1.0000, 1.0000],\n",
              "         [4.0000, 2.5000, 2.0000]]])"
            ]
          },
          "metadata": {},
          "execution_count": 50
        }
      ]
    },
    {
      "cell_type": "code",
      "source": [
        "torch.div(complex_tensor_one, complex_tensor_two)"
      ],
      "metadata": {
        "colab": {
          "base_uri": "https://localhost:8080/"
        },
        "id": "Qucd6LJUpwyg",
        "outputId": "49d12120-5880-4d91-9e77-e9812c8672d5"
      },
      "execution_count": null,
      "outputs": [
        {
          "output_type": "execute_result",
          "data": {
            "text/plain": [
              "tensor([[[0.1000, 0.1000, 0.1000],\n",
              "         [0.1000, 0.1000, 0.1000]],\n",
              "\n",
              "        [[0.1000, 0.1000, 0.1000],\n",
              "         [0.1000, 0.1000, 0.1000]],\n",
              "\n",
              "        [[0.1000, 0.1000, 0.1000],\n",
              "         [0.1000, 0.1000, 0.1000]]])"
            ]
          },
          "metadata": {},
          "execution_count": 51
        }
      ]
    },
    {
      "cell_type": "markdown",
      "source": [
        "# Matrix Multiplication"
      ],
      "metadata": {
        "id": "OOASV4P3qJCT"
      }
    },
    {
      "cell_type": "code",
      "source": [
        "torch.matmul(basic_tensor_one, basic_tensor_two)"
      ],
      "metadata": {
        "colab": {
          "base_uri": "https://localhost:8080/"
        },
        "id": "EljwUP2pqK4Z",
        "outputId": "58153d37-fd65-43da-b27f-74d89c50f4b5"
      },
      "execution_count": null,
      "outputs": [
        {
          "output_type": "execute_result",
          "data": {
            "text/plain": [
              "tensor(32)"
            ]
          },
          "metadata": {},
          "execution_count": 52
        }
      ]
    },
    {
      "cell_type": "code",
      "source": [
        "torch.matmul(complex_tensor_one, basic_tensor_one)"
      ],
      "metadata": {
        "colab": {
          "base_uri": "https://localhost:8080/"
        },
        "id": "60jRE9TlqOL7",
        "outputId": "025f28e0-658e-4f1c-a342-761a226a90eb"
      },
      "execution_count": null,
      "outputs": [
        {
          "output_type": "execute_result",
          "data": {
            "text/plain": [
              "tensor([[14, 32],\n",
              "        [14, 32],\n",
              "        [14, 32]])"
            ]
          },
          "metadata": {},
          "execution_count": 57
        }
      ]
    },
    {
      "cell_type": "code",
      "source": [
        "torch.matmul(complex_tensor_one, basic_tensor_two)"
      ],
      "metadata": {
        "colab": {
          "base_uri": "https://localhost:8080/"
        },
        "id": "Axz0S5UFqUPA",
        "outputId": "e362cb1f-3527-4181-9a36-d3c91f951b39"
      },
      "execution_count": null,
      "outputs": [
        {
          "output_type": "execute_result",
          "data": {
            "text/plain": [
              "tensor([[32, 77],\n",
              "        [32, 77],\n",
              "        [32, 77]])"
            ]
          },
          "metadata": {},
          "execution_count": 58
        }
      ]
    },
    {
      "cell_type": "code",
      "source": [
        "# This should throw an error\n",
        "# torch.matmul(complex_tensor_one, complex_tensor_two)"
      ],
      "metadata": {
        "colab": {
          "base_uri": "https://localhost:8080/",
          "height": 162
        },
        "id": "uqMfsS15quLL",
        "outputId": "d16a102a-dc86-4190-99a6-d65e911f7922"
      },
      "execution_count": null,
      "outputs": [
        {
          "output_type": "error",
          "ename": "RuntimeError",
          "evalue": "Expected size for first two dimensions of batch2 tensor to be: [3, 3] but got: [3, 2].",
          "traceback": [
            "\u001b[0;31m---------------------------------------------------------------------------\u001b[0m",
            "\u001b[0;31mRuntimeError\u001b[0m                              Traceback (most recent call last)",
            "\u001b[0;32m<ipython-input-59-6885525df1d9>\u001b[0m in \u001b[0;36m<cell line: 2>\u001b[0;34m()\u001b[0m\n\u001b[1;32m      1\u001b[0m \u001b[0;31m# This should throw an error\u001b[0m\u001b[0;34m\u001b[0m\u001b[0;34m\u001b[0m\u001b[0m\n\u001b[0;32m----> 2\u001b[0;31m \u001b[0mtorch\u001b[0m\u001b[0;34m.\u001b[0m\u001b[0mmatmul\u001b[0m\u001b[0;34m(\u001b[0m\u001b[0mcomplex_tensor_one\u001b[0m\u001b[0;34m,\u001b[0m \u001b[0mcomplex_tensor_two\u001b[0m\u001b[0;34m)\u001b[0m\u001b[0;34m\u001b[0m\u001b[0;34m\u001b[0m\u001b[0m\n\u001b[0m",
            "\u001b[0;31mRuntimeError\u001b[0m: Expected size for first two dimensions of batch2 tensor to be: [3, 3] but got: [3, 2]."
          ]
        }
      ]
    },
    {
      "cell_type": "markdown",
      "source": [
        "$\\begin{bmatrix}\n",
        "        0 & 0 \\\\\n",
        "        0 & 0 \\\\\n",
        "        0 & 0\n",
        "    \\end{bmatrix} \\\\[1em]\n",
        "    \\begin{bmatrix}\n",
        "        0 & 0 \\\\\n",
        "        0 & 0 \\\\\n",
        "        0 & 0\n",
        "    \\end{bmatrix} \\\\[1em]\n",
        "    \\begin{bmatrix}\n",
        "        0 & 0 \\\\\n",
        "        0 & 0 \\\\\n",
        "        0 & 0\n",
        "    \\end{bmatrix}\n",
        "$\n",
        "\n",
        "\n"
      ],
      "metadata": {
        "id": "Xo76p4rQrxC5"
      }
    },
    {
      "cell_type": "code",
      "source": [
        "fixed_tensor = torch.zeros([3,3,2], dtype = int)"
      ],
      "metadata": {
        "id": "PGvWplW-q3TH"
      },
      "execution_count": null,
      "outputs": []
    },
    {
      "cell_type": "code",
      "source": [
        "matmul_res = torch.matmul(complex_tensor_one, fixed_tensor)"
      ],
      "metadata": {
        "id": "pFXT0hQrrDKk"
      },
      "execution_count": null,
      "outputs": []
    },
    {
      "cell_type": "code",
      "source": [
        "matmul_res"
      ],
      "metadata": {
        "colab": {
          "base_uri": "https://localhost:8080/"
        },
        "id": "uZCxVyPSrH0F",
        "outputId": "f7c614d0-ef45-41cf-8536-c857e77c1209"
      },
      "execution_count": null,
      "outputs": [
        {
          "output_type": "execute_result",
          "data": {
            "text/plain": [
              "tensor([[[0, 0],\n",
              "         [0, 0]],\n",
              "\n",
              "        [[0, 0],\n",
              "         [0, 0]],\n",
              "\n",
              "        [[0, 0],\n",
              "         [0, 0]]])"
            ]
          },
          "metadata": {},
          "execution_count": 74
        }
      ]
    },
    {
      "cell_type": "code",
      "source": [
        "matmul_res.shape"
      ],
      "metadata": {
        "colab": {
          "base_uri": "https://localhost:8080/"
        },
        "id": "aqZ5i3s3rhun",
        "outputId": "1c4c17c7-7e65-4ae7-c8a2-6261a1fcc01a"
      },
      "execution_count": null,
      "outputs": [
        {
          "output_type": "execute_result",
          "data": {
            "text/plain": [
              "torch.Size([3, 2, 2])"
            ]
          },
          "metadata": {},
          "execution_count": 75
        }
      ]
    }
  ]
}